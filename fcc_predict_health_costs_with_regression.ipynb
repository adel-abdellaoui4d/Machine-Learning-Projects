{
  "cells": [
    {
      "cell_type": "code",
      "execution_count": null,
      "metadata": {
        "id": "1rRo8oNqZ-Rj"
      },
      "outputs": [],
      "source": [
        "# Import libraries. You may or may not use all of these.\n",
        "!pip install -q git+https://github.com/tensorflow/docs\n",
        "import matplotlib.pyplot as plt\n",
        "import numpy as np\n",
        "import pandas as pd\n",
        "from sklearn.metrics import mean_absolute_error\n",
        "from sklearn.linear_model import LinearRegression\n",
        "\n",
        "try:\n",
        "  # %tensorflow_version only exists in Colab.\n",
        "  %tensorflow_version 2.x\n",
        "except Exception:\n",
        "  pass\n",
        "import tensorflow as tf\n",
        "from sklearn.model_selection import train_test_split\n",
        "from tensorflow import keras\n",
        "from tensorflow.keras import layers\n",
        "from sklearn.preprocessing import LabelEncoder\n",
        "import tensorflow_docs as tfdocs\n",
        "import tensorflow_docs.plots\n",
        "import tensorflow_docs.modeling"
      ]
    },
    {
      "cell_type": "code",
      "execution_count": null,
      "metadata": {
        "id": "CiX2FI4gZtTt"
      },
      "outputs": [],
      "source": [
        "# Import data\n",
        "!wget https://cdn.freecodecamp.org/project-data/health-costs/insurance.csv\n",
        "dataset = pd.read_csv('insurance.csv')\n",
        "dataset.tail()"
      ]
    },
    {
      "cell_type": "code",
      "execution_count": null,
      "metadata": {
        "id": "LcopvQh3X-kX"
      },
      "outputs": [],
      "source": [
        "# Convert categorica columns to numbers\n",
        "label_encoder = LabelEncoder()\n",
        "dataset['sex'] = label_encoder.fit_transform(dataset['sex']) # male = 1 , female = 0\n",
        "dataset['smoker'] = label_encoder.fit_transform(dataset['smoker']) # yes = 1 , no = 0\n",
        "dataset['region'] = label_encoder.fit_transform(dataset['region']) # northwest=0, northeast=1, southeast=2, southwest=3"
      ]
    },
    {
      "cell_type": "code",
      "source": [
        "# Select features (X) and target Labels (Y)\n",
        "X = dataset.drop('expenses',axis=1)\n",
        "Y = dataset['expenses']"
      ],
      "metadata": {
        "id": "yAxUk9Vu2fZG"
      },
      "execution_count": null,
      "outputs": []
    },
    {
      "cell_type": "code",
      "source": [
        "from sklearn.preprocessing import StandardScaler\n",
        "\n",
        "# Scale the features\n",
        "scaler = StandardScaler()\n",
        "X_scaled = scaler.fit_transform(X)\n",
        "\n",
        "# Split the data again with scaled features\n",
        "train_dataset, test_dataset, train_labels, test_labels = train_test_split(X_scaled, Y, test_size=0.2, random_state=42)\n"
      ],
      "metadata": {
        "id": "XWV6-f9o2_fl"
      },
      "execution_count": null,
      "outputs": []
    },
    {
      "cell_type": "code",
      "source": [
        "# Initialize a linear regression model\n",
        "model = LinearRegression()\n",
        "\n",
        "# Train the model\n",
        "model.fit(train_dataset,train_labels)"
      ],
      "metadata": {
        "id": "g3xh8eLO5Gth"
      },
      "execution_count": null,
      "outputs": []
    },
    {
      "cell_type": "code",
      "source": [
        "# Make predictions using the test dataset\n",
        "predictions = model.predict(test_dataset)\n",
        "\n",
        "# Calculate Mean Absolute Error (MAE)\n",
        "from sklearn.metrics import mean_absolute_error\n",
        "mae = mean_absolute_error(test_labels, predictions)\n",
        "\n",
        "# Print the result\n",
        "print(f\"Testing set Mean Absolute Error: {mae:.2f} expenses\")"
      ],
      "metadata": {
        "id": "kao3DC6P6VU0"
      },
      "execution_count": null,
      "outputs": []
    },
    {
      "cell_type": "code",
      "execution_count": null,
      "metadata": {
        "id": "Xe7RXH3N3CWU"
      },
      "outputs": [],
      "source": [
        "# Make predictions using the test dataset\n",
        "predictions = model.predict(test_dataset)\n",
        "\n",
        "# Calculate Mean Absolute Error (MAE)\n",
        "from sklearn.metrics import mean_absolute_error, mean_squared_error, r2_score\n",
        "\n",
        "mae = mean_absolute_error(test_labels, predictions)\n",
        "mse = mean_squared_error(test_labels, predictions)\n",
        "r2 = r2_score(test_labels, predictions)\n",
        "\n",
        "# Print the results\n",
        "print(f\"Testing set Mean Absolute Error: {mae:.2f} expenses\")\n",
        "print(f\"Mean Squared Error: {mse:.2f}\")\n",
        "print(f\"R² Score: {r2:.2f}\")\n",
        "\n",
        "if mae < 3500:\n",
        "    print(\"You passed the challenge. Great job!\")\n",
        "else:\n",
        "    print(\"The Mean Abs Error must be less than 3500. Keep trying.\")\n",
        "\n",
        "# Plot predictions\n",
        "test_predictions = predictions.flatten()\n",
        "\n",
        "a = plt.axes(aspect='equal')\n",
        "plt.scatter(test_labels, test_predictions)\n",
        "plt.xlabel('True values (expenses)')\n",
        "plt.ylabel('Predictions (expenses)')\n",
        "lims = [0, 50000]\n",
        "plt.xlim(lims)\n",
        "plt.ylim(lims)\n",
        "_ = plt.plot(lims, lims)\n",
        "\n"
      ]
    }
  ],
  "metadata": {
    "colab": {
      "name": "fcc_predict_health_costs_with_regression.ipynb",
      "private_outputs": true,
      "provenance": []
    },
    "kernelspec": {
      "display_name": "Python 3",
      "name": "python3"
    }
  },
  "nbformat": 4,
  "nbformat_minor": 0
}