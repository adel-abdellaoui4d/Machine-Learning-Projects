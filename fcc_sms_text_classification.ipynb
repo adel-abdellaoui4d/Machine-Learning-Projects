{
  "cells": [
    {
      "cell_type": "code",
      "execution_count": null,
      "metadata": {
        "id": "8RZOuS9LWQvv"
      },
      "outputs": [],
      "source": [
        "\n",
        "# Data Preparation\n",
        "import pandas as pd\n",
        "from sklearn.feature_extraction.text import CountVectorizer\n",
        "from sklearn.svm import SVC"
      ]
    },
    {
      "cell_type": "code",
      "execution_count": null,
      "metadata": {
        "id": "lMHwYXHXCar3"
      },
      "outputs": [],
      "source": [
        "df = pd.read_csv('spam.csv')\n",
        "print(df.describe())\n",
        "\n",
        "# create the train & test data\n",
        "Y = df['Label']\n",
        "X = df['EmailText']\n",
        "\n",
        "#split the data to train & test\n",
        "X_train = X[0:4500]\n",
        "Y_train = X[0:4500]\n",
        "X_test,Y_test = X[4500:],Y[4500:]"
      ]
    },
    {
      "cell_type": "code",
      "execution_count": null,
      "metadata": {
        "id": "zOMKywn4zReN"
      },
      "outputs": [],
      "source": [
        "# Extract valuable information as features\n",
        "count_vectorizer = CountVectorizer()\n",
        "\n",
        "train_features = count_vectorizer.fit_transform(X_train)\n",
        "\n",
        "model = SVC()\n",
        "\n",
        "model.fit(train_features,Y_train)\n",
        "\n",
        "test_features = count_vectorizer.transform(X_test)\n"
      ]
    },
    {
      "cell_type": "code",
      "execution_count": null,
      "metadata": {
        "id": "J9tD9yACG6M9"
      },
      "outputs": [],
      "source": [
        "# Practical example for testing\n",
        "def predict_sample(index):\n",
        "    sample = count_vectorizer.transform(X_test[index:1+index])\n",
        "    print('The Email Text ::',list(X_test[index:1+index]))\n",
        "    predict = model.predict(sample)\n",
        "    print('The predicted label :: ',predict)\n",
        "    print('The real label :: ',list(Y_test[index:1+index]))\n"
      ]
    },
    {
      "cell_type": "code",
      "execution_count": null,
      "metadata": {
        "id": "Dxotov85SjsC"
      },
      "outputs": [],
      "source": [
        "predict_sample(4) # Spam\n",
        "predict_sample(5) # Ham\n",
        "\n"
      ]
    }
  ],
  "metadata": {
    "colab": {
      "name": "fcc_sms_text_classification.ipynb",
      "private_outputs": true,
      "provenance": []
    },
    "kernelspec": {
      "display_name": "Python 3",
      "name": "python3"
    },
    "language_info": {}
  },
  "nbformat": 4,
  "nbformat_minor": 0
}